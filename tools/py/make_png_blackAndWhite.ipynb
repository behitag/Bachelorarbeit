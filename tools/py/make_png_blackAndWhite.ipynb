{
 "cells": [
  {
   "cell_type": "code",
   "execution_count": 2,
   "id": "41c16d28-52a7-40dd-b88e-fc640a3ba16d",
   "metadata": {},
   "outputs": [],
   "source": [
    "import os\n",
    "from datetime import datetime\n",
    "from PIL import Image\n",
    "\n",
    "patternsFolder = \"D:\\\\BA\\\\Codes\\\\zTools\\\\patterns_original\\\\\"\n",
    "names = sorted(\n",
    "    [os.path.splitext(f)[0] for f in os.listdir(patternsFolder) if os.path.isfile(os.path.join(patternsFolder, f))],\n",
    "    key=lambda x: int(x)  \n",
    ")\n",
    "\n",
    "for name in names:\n",
    "    img = Image.open(patternsFolder + name + \".png\")\n",
    "    img = img.convert(\"L\").point(lambda x: 255 if x > 128 else 0, mode=\"1\")\n",
    "    img.save(patternsFolder + name + \"_1.png\")\n"
   ]
  },
  {
   "cell_type": "code",
   "execution_count": null,
   "id": "26a1ce80-ea05-46b2-be9b-e53bfc8fa37b",
   "metadata": {},
   "outputs": [],
   "source": []
  }
 ],
 "metadata": {
  "kernelspec": {
   "display_name": "Python 3 (ipykernel)",
   "language": "python",
   "name": "python3"
  },
  "language_info": {
   "codemirror_mode": {
    "name": "ipython",
    "version": 3
   },
   "file_extension": ".py",
   "mimetype": "text/x-python",
   "name": "python",
   "nbconvert_exporter": "python",
   "pygments_lexer": "ipython3",
   "version": "3.11.9"
  }
 },
 "nbformat": 4,
 "nbformat_minor": 5
}
