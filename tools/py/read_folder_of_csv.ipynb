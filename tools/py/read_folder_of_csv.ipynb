{
 "cells": [
  {
   "cell_type": "code",
   "execution_count": 2,
   "id": "2e5e0287-1f5f-447c-a4cd-9eedf1e6762e",
   "metadata": {},
   "outputs": [
    {
     "name": "stdout",
     "output_type": "stream",
     "text": [
      " ############## CHECKED ALL CSVs\n",
      " ---------------- DONE!\n"
     ]
    }
   ],
   "source": [
    "from datetime import datetime \n",
    "import csv\n",
    "import os\n",
    "\n",
    "#should end with \\\\\n",
    "folder_path = \"D:\\\\BA\\\\Results\\\\v2t0\\\\with-sc\\\\CSVs\\\\\"\n",
    "cpu_path = \"D:\\\\BA\\\\Results\\\\v2t0\\\\with-sc\\\\cpu.csv\"\n",
    "\n",
    "file_names = sorted(\n",
    "    [os.path.splitext(f)[0] for f in os.listdir(folder_path) if os.path.isfile(os.path.join(folder_path, f))],\n",
    "    key=lambda x: datetime.strptime(x, \"%Y-%m-%d-%H-%M-%S\")\n",
    ")\n",
    "\n",
    "# checking all CSVs\n",
    "for name in file_names:    \n",
    "    file_path = folder_path + name + \".csv\"\n",
    "    row = open(file_path, encoding=\"utf-8\").readlines()[1].strip().split(',')\n",
    "\n",
    "    for i in range(len(row)-2):\n",
    "        if i==0:\n",
    "            continue\n",
    "        if i==len(row)-2:\n",
    "            break\n",
    "              \n",
    "        if float(row[i]) < float(row[i+1]):            \n",
    "            print(\"ERROR in filename: \", name, \", column: \", i, \"-------> \", row[i], \"<\", row[i+1])\n",
    "    \n",
    "print(\" ############## CHECKED ALL CSVs\")    \n",
    "\n",
    "headers = [\"time\"]\n",
    "#get all CSVs\n",
    "for name in file_names:\n",
    "    file_path = folder_path + name + \".csv\"    \n",
    "        \n",
    "    row1 = open(file_path, encoding=\"utf-8\").readline().strip().split(',')\n",
    "\n",
    "    #make the final row\n",
    "    for cell in row1[:-1]:\n",
    "        if cell not in headers:\n",
    "            headers.append(cell)\n",
    "            \n",
    "headers.append(\"total\")\n",
    "\n",
    "with open(cpu_path, mode='w', newline='', encoding='utf-8') as file:\n",
    "            writer = csv.writer(file)\n",
    "            writer.writerow(headers)\n",
    "\n",
    "# process 2nd row of the csv\n",
    "for name in file_names:\n",
    "            \n",
    "    file_path = folder_path + name + \".csv\"\n",
    "    row1 = open(file_path, encoding=\"utf-8\").readline().strip().split(',')\n",
    "    row2 = open(file_path, encoding=\"utf-8\").readlines()[1].strip().split(',')\n",
    "\n",
    "    put = [\"0\"] * len(headers)\n",
    "    put[0] = row2[0]\n",
    "\n",
    "    for row1index, cell in enumerate(row1[1:]):\n",
    "        if cell in headers:\n",
    "            #print(float(put[i]))\n",
    "            i = headers.index(cell)\n",
    "            put[i] = float(put[i]) + float(row2[row1index+1])/10\n",
    "\n",
    "    put[-1] = put[-1]*10\n",
    "\n",
    "    with open(cpu_path, mode='a', newline='', encoding='utf-8') as file:\n",
    "        writer = csv.writer(file)\n",
    "        writer.writerow(put)\n",
    "\n",
    "print(\" ---------------- DONE!\")\n"
   ]
  },
  {
   "cell_type": "code",
   "execution_count": null,
   "id": "2f34691b-7ba6-4a7f-80c3-0dc69ad210bd",
   "metadata": {},
   "outputs": [],
   "source": []
  }
 ],
 "metadata": {
  "kernelspec": {
   "display_name": "Python 3 (ipykernel)",
   "language": "python",
   "name": "python3"
  },
  "language_info": {
   "codemirror_mode": {
    "name": "ipython",
    "version": 3
   },
   "file_extension": ".py",
   "mimetype": "text/x-python",
   "name": "python",
   "nbconvert_exporter": "python",
   "pygments_lexer": "ipython3",
   "version": "3.11.9"
  }
 },
 "nbformat": 4,
 "nbformat_minor": 5
}
