{
 "cells": [
  {
   "cell_type": "code",
   "execution_count": 1,
   "id": "9be6571f-053d-49be-ac56-c28d1c2d5770",
   "metadata": {},
   "outputs": [
    {
     "name": "stdout",
     "output_type": "stream",
     "text": [
      "2024-12-27 00:39:12.782\n",
      "Min Ratio:  93 %\n",
      "Saved new Name into Namesfolder\n",
      "Saved new Name into Namesfolder\n",
      "Saved new Name into Namesfolder\n",
      "Saved new Name into Namesfolder\n",
      "Saved new Name into Namesfolder\n",
      "Saved new Name into Namesfolder\n",
      "Saved new Name into Namesfolder\n",
      "Saved new Name into Namesfolder\n",
      "Saved new Name into Namesfolder\n",
      "Saved new Name into Namesfolder\n",
      "Saved new Name into Namesfolder\n",
      "Saved new Name into Namesfolder\n",
      "Saved new Name into Namesfolder\n",
      "Saved new Name into Namesfolder\n",
      "Saved new Name into Namesfolder\n",
      "Saved new Name into Namesfolder\n",
      "Saved new Name into Namesfolder\n",
      "Saved new Name into Namesfolder\n",
      "Saved new Name into Namesfolder\n",
      "Saved new Name into Namesfolder\n",
      "Saved new Name into Namesfolder\n",
      "Saved new Name into Namesfolder\n",
      "Saved new Name into Namesfolder\n",
      "Saved new Name into Namesfolder\n",
      "Saved new Name into Namesfolder\n",
      "Saved new Name into Namesfolder\n",
      "Saved new Name into Namesfolder\n",
      "2024-12-27 08:16:26.371\n"
     ]
    }
   ],
   "source": [
    "from concurrent.futures import ThreadPoolExecutor\n",
    "from datetime import datetime\n",
    "import read1png\n",
    "import os\n",
    "import csv\n",
    "\n",
    "# should end with \\\\\n",
    "PNGs_folder_path = \"D:\\\\BA\\\\Results\\\\v2t0\\\\with-sc\\\\PNGs-3\\\\\"\n",
    "CSVs_folder_path = \"D:\\\\BA\\\\Results\\\\v2t0\\\\with-sc\\\\CSVs\\\\\"\n",
    "minRatio = 1\n",
    "\n",
    "current_time = datetime.now()\n",
    "print(current_time.strftime(\"%Y-%m-%d %H:%M:%S.%f\")[:-3])  \n",
    "\n",
    "file_names = sorted(\n",
    "    [os.path.splitext(f)[0] for f in os.listdir(PNGs_folder_path) if os.path.isfile(os.path.join(PNGs_folder_path, f))],\n",
    "    key=lambda x: datetime.strptime(x, \"%Y-%m-%d-%H-%M-%S\")\n",
    ")\n",
    "\n",
    "for fileName in file_names: \n",
    "    png = None   \n",
    "    row = []\n",
    "    pngPath = os.path.join(PNGs_folder_path, fileName + \".png\")\n",
    "    csvPath = os.path.join(CSVs_folder_path, fileName + \".csv\")    \n",
    "    png = read1png.read(pngPath)\n",
    "        \n",
    "    if png.minRatio < minRatio:\n",
    "        minRatio = png.minRatio\n",
    "        print(\"Min Ratio: \", int(minRatio*100), \"%\")\n",
    "\n",
    "    #write 1st row of each csv file\n",
    "    row = png.names\n",
    "    row.insert(0, \"time\")\n",
    "    row.append(\"total\")\n",
    "    with open(csvPath, mode='w', newline='', encoding='utf-8') as file:\n",
    "        writer = csv.writer(file)\n",
    "        writer.writerow(row)\n",
    "\n",
    "    #write 1st row of each csv file\n",
    "    row = png.cpus\n",
    "    row.insert(0, png.time)\n",
    "    row.append(png.cpuTotal)\n",
    "    with open(csvPath, mode='a', newline='', encoding='utf-8') as file:\n",
    "        writer = csv.writer(file)\n",
    "        writer.writerow(row)\n",
    "\n",
    "current_time = datetime.now()\n",
    "print(current_time.strftime(\"%Y-%m-%d %H:%M:%S.%f\")[:-3]) "
   ]
  },
  {
   "cell_type": "code",
   "execution_count": null,
   "id": "569899fb-3aad-4150-b68f-43bf63512a1c",
   "metadata": {},
   "outputs": [],
   "source": []
  }
 ],
 "metadata": {
  "kernelspec": {
   "display_name": "Python 3 (ipykernel)",
   "language": "python",
   "name": "python3"
  },
  "language_info": {
   "codemirror_mode": {
    "name": "ipython",
    "version": 3
   },
   "file_extension": ".py",
   "mimetype": "text/x-python",
   "name": "python",
   "nbconvert_exporter": "python",
   "pygments_lexer": "ipython3",
   "version": "3.11.9"
  }
 },
 "nbformat": 4,
 "nbformat_minor": 5
}
