{
 "cells": [
  {
   "cell_type": "code",
   "execution_count": null,
   "id": "faaadd0a-6ddb-43b2-9fa6-6f7f663c0be0",
   "metadata": {},
   "outputs": [
    {
     "name": "stdout",
     "output_type": "stream",
     "text": [
      "reading and correcting file ...\n",
      "row  1.0 M\n",
      "row  2.0 M\n",
      "row  3.0 M\n",
      "row  4.0 M\n",
      "row  5.0 M\n",
      "row  6.0 M\n",
      "row  7.0 M\n",
      "row  8.0 M\n",
      "row  9.0 M\n",
      "row  10.0 M\n",
      "row  11.0 M\n",
      "row  12.0 M\n",
      "row  13.0 M\n",
      "row  14.0 M\n",
      "row  15.0 M\n",
      "row  16.0 M\n",
      "row  17.0 M\n",
      "row  18.0 M\n",
      "row  19.0 M\n",
      "row  20.0 M\n",
      "row  21.0 M\n"
     ]
    }
   ],
   "source": [
    "import pandas as pd\n",
    "import csv\n",
    "\n",
    "column = 'time'\n",
    "file_read = r'D:\\BA\\Results\\v1t3\\msb'\n",
    "#file_read = \"D:\\\\z\\\\msb\"\n",
    "file_write = file_read + \"_filled\"\n",
    "file_read = file_read + \".csv\"\n",
    "file_write = file_write + \".csv\"\n",
    "#----------------------------------------------------\n",
    "\n",
    "def parse_datetime(value):\n",
    "    if '.' not in value:\n",
    "        value += '.0'\n",
    "    return value\n",
    "\n",
    "print(\"reading and correcting file ...\")\n",
    "with open(file_read, mode='r', newline='', encoding='utf-8') as infile, \\\n",
    "        open(file_write, mode='w', newline='', encoding='utf-8') as outfile:\n",
    "    reader = csv.reader(infile)\n",
    "    writer = csv.writer(outfile)\n",
    "    \n",
    "    # Write the header directly\n",
    "    header = next(reader)\n",
    "    time_index = header.index('time')\n",
    "    writer.writerow(header)\n",
    "    \n",
    "    # Process rows one at a time\n",
    "    i=0\n",
    "    for row in reader:\n",
    "        row[time_index] = parse_datetime(row[time_index])\n",
    "        writer.writerow(row)\n",
    "        i=i+1\n",
    "        if(i%1000000==0):\n",
    "            print(\"row \", i/1000000, \"M\")\n",
    "\n",
    "print(\"------------------------------DONE!!\")\n"
   ]
  },
  {
   "cell_type": "code",
   "execution_count": null,
   "id": "89107095-15fb-46cd-96be-e366dc838476",
   "metadata": {},
   "outputs": [],
   "source": []
  }
 ],
 "metadata": {
  "kernelspec": {
   "display_name": "Python 3 (ipykernel)",
   "language": "python",
   "name": "python3"
  },
  "language_info": {
   "codemirror_mode": {
    "name": "ipython",
    "version": 3
   },
   "file_extension": ".py",
   "mimetype": "text/x-python",
   "name": "python",
   "nbconvert_exporter": "python",
   "pygments_lexer": "ipython3",
   "version": "3.11.9"
  }
 },
 "nbformat": 4,
 "nbformat_minor": 5
}
