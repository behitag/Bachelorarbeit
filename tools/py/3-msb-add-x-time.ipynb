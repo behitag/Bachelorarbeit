{
 "cells": [
  {
   "cell_type": "code",
   "execution_count": 6,
   "id": "7cfd2711-1ad1-4290-9a22-4e1b8fcdac2c",
   "metadata": {},
   "outputs": [
    {
     "name": "stdout",
     "output_type": "stream",
     "text": [
      "-------------- DONE!\n"
     ]
    }
   ],
   "source": [
    "import pandas as pd\n",
    "\n",
    "# Define the CSV file path\n",
    "file_in = r'D:\\BA\\Results\\v2t1\\test-zs.csv'\n",
    "\n",
    "# Read the file while parsing 'time' as a timestamp\n",
    "df = pd.read_csv(file_path, parse_dates=['time'])\n",
    "\n",
    "# Calculate the elapsed time\n",
    "df['time_x'] = (df['time'] - df['time'].iloc[0]).dt.total_seconds()\n",
    "\n",
    "# Save the updated DataFrame back to the file\n",
    "df.to_csv(file_path, index=False)\n",
    "\n",
    "print(\"-------------- DONE!\")"
   ]
  },
  {
   "cell_type": "code",
   "execution_count": null,
   "id": "010d1aa7-47e7-4fa4-8282-f7566dd47004",
   "metadata": {},
   "outputs": [],
   "source": []
  }
 ],
 "metadata": {
  "kernelspec": {
   "display_name": "Python 3 (ipykernel)",
   "language": "python",
   "name": "python3"
  },
  "language_info": {
   "codemirror_mode": {
    "name": "ipython",
    "version": 3
   },
   "file_extension": ".py",
   "mimetype": "text/x-python",
   "name": "python",
   "nbconvert_exporter": "python",
   "pygments_lexer": "ipython3",
   "version": "3.11.9"
  }
 },
 "nbformat": 4,
 "nbformat_minor": 5
}
