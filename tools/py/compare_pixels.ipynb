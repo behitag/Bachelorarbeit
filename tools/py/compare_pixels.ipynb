{
 "cells": [
  {
   "cell_type": "code",
   "execution_count": 1,
   "id": "8b71d838-f765-4ef3-bf82-4052995d59ae",
   "metadata": {},
   "outputs": [
    {
     "name": "stdout",
     "output_type": "stream",
     "text": [
      "OK\n"
     ]
    }
   ],
   "source": [
    "import os\n",
    "from datetime import datetime\n",
    "from PIL import Image\n",
    "import SimilarityForName\n",
    "import SimilarityForDigit\n",
    "\n",
    "z1_x1 = 959\n",
    "z1_y1 = 185\n",
    "z1_x2 = 972\n",
    "z1_y2 = 220\n",
    "z2_x1 = 977\n",
    "z2_y1 = 185\n",
    "z2_x2 = 990\n",
    "z2_y2 = 220\n",
    "a_x1 = 100\n",
    "a_x2 = 880\n",
    "b_x1 = 956\n",
    "b_x2 = 968\n",
    "c_x1 = 968\n",
    "c_x2 = 980\n",
    "d_x1 = 986\n",
    "d_x2 = 998\n",
    "y0 = 266\n",
    "height = 56\n",
    "#------------------------------------------------------------------ load all patterns into memory\n",
    "cropped = Image.open(r'D:\\BA\\Codes\\zTools\\patterns_names\\12.png')\n",
    "pattern = Image.open(r'D:\\BA\\Codes\\zTools\\patterns_names\\Service Host DCOM Server Process Launcher.png')\n",
    "\n",
    "cropped = cropped.convert(\"L\").point(lambda x: 255 if x > 128 else 0, mode=\"1\")    \n",
    "pattern = pattern.convert(\"L\").point(lambda x: 255 if x > 128 else 0, mode=\"1\")    \n",
    "\n",
    "croppedPixels = cropped.convert(\"RGB\").load()\n",
    "patternPixels = pattern.convert(\"RGB\").load()\n",
    "\n",
    "width, length = cropped.size\n",
    "for w in range(width):\n",
    "    for l in range(length):\n",
    "        if croppedPixels[w,l] != patternPixels[w,l]:\n",
    "            print(\"ERROR\")\n",
    "            break\n",
    "\n",
    "print(\"OK\")\n",
    "            \n"
   ]
  },
  {
   "cell_type": "code",
   "execution_count": null,
   "id": "e6f90a64-4558-41cd-a2fd-f7ec78570873",
   "metadata": {},
   "outputs": [],
   "source": []
  }
 ],
 "metadata": {
  "kernelspec": {
   "display_name": "Python 3 (ipykernel)",
   "language": "python",
   "name": "python3"
  },
  "language_info": {
   "codemirror_mode": {
    "name": "ipython",
    "version": 3
   },
   "file_extension": ".py",
   "mimetype": "text/x-python",
   "name": "python",
   "nbconvert_exporter": "python",
   "pygments_lexer": "ipython3",
   "version": "3.11.9"
  }
 },
 "nbformat": 4,
 "nbformat_minor": 5
}
