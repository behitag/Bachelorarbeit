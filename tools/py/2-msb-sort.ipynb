{
 "cells": [
  {
   "cell_type": "code",
   "execution_count": 1,
   "id": "7cfd2711-1ad1-4290-9a22-4e1b8fcdac2c",
   "metadata": {},
   "outputs": [
    {
     "name": "stdout",
     "output_type": "stream",
     "text": [
      "Reading in Chunks...\n",
      "Containing sorted Chunks...\n",
      "Final Sort and Save...\n",
      "--------------------------File sorted and saved to: D:\\ba\\Results\\v2t0\\2\\msb_filled_sorted.csv\n"
     ]
    }
   ],
   "source": [
    "import pandas as pd\n",
    "\n",
    "# Specify the path to your CSV file\n",
    "file_read = r'D:\\ba\\Results\\v2t0\\2\\msb_filled'\n",
    "\n",
    "#----------------------------------------------------------\n",
    "file_write = file_read + \"_sorted\"\n",
    "file_read = file_read + \".csv\"\n",
    "file_write = file_write + \".csv\"\n",
    "\n",
    "\n",
    "print(\"Reading in Chunks...\")\n",
    "chunks = pd.read_csv(file_read, chunksize=1000000, parse_dates=['time'])\n",
    "sorted_chunks = [chunk.sort_values(by='time') for chunk in chunks]\n",
    "\n",
    "\n",
    "print(\"Containing sorted Chunks...\")\n",
    "sorted_df = pd.concat(sorted_chunks)\n",
    "\n",
    "\n",
    "print(\"Final Sort and Save...\")\n",
    "sorted_df.sort_values(by='time', inplace=True)\n",
    "sorted_df.to_csv(file_write, index=False)\n",
    "\n",
    "\n",
    "print(\"--------------------------File sorted and saved to:\", file_write)"
   ]
  },
  {
   "cell_type": "code",
   "execution_count": null,
   "id": "010d1aa7-47e7-4fa4-8282-f7566dd47004",
   "metadata": {},
   "outputs": [],
   "source": []
  }
 ],
 "metadata": {
  "kernelspec": {
   "display_name": "Python 3 (ipykernel)",
   "language": "python",
   "name": "python3"
  },
  "language_info": {
   "codemirror_mode": {
    "name": "ipython",
    "version": 3
   },
   "file_extension": ".py",
   "mimetype": "text/x-python",
   "name": "python",
   "nbconvert_exporter": "python",
   "pygments_lexer": "ipython3",
   "version": "3.11.9"
  }
 },
 "nbformat": 4,
 "nbformat_minor": 5
}
